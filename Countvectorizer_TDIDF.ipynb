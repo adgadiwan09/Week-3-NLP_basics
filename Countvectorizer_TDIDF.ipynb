{
  "nbformat": 4,
  "nbformat_minor": 0,
  "metadata": {
    "colab": {
      "name": "Untitled11.ipynb",
      "provenance": [],
      "authorship_tag": "ABX9TyMP/hM3MRmE64+wlRWegHHA",
      "include_colab_link": true
    },
    "kernelspec": {
      "name": "python3",
      "display_name": "Python 3"
    }
  },
  "cells": [
    {
      "cell_type": "markdown",
      "metadata": {
        "id": "view-in-github",
        "colab_type": "text"
      },
      "source": [
        "<a href=\"https://colab.research.google.com/github/adgadiwan09/Week-3-NLP_basics/blob/master/Countvectorizer_TDIDF.ipynb\" target=\"_parent\"><img src=\"https://colab.research.google.com/assets/colab-badge.svg\" alt=\"Open In Colab\"/></a>"
      ]
    },
    {
      "cell_type": "markdown",
      "metadata": {
        "id": "gTHRL7ThsYbT",
        "colab_type": "text"
      },
      "source": [
        "#Count-vectorizer and TD-IDF basics"
      ]
    },
    {
      "cell_type": "code",
      "metadata": {
        "id": "aOZnZrm7nsBt",
        "colab_type": "code",
        "colab": {}
      },
      "source": [
        "new_message=['I wish to go to NewYork for the vacation','What are your plans for the vacation','I wish I could go for a vacation']"
      ],
      "execution_count": 1,
      "outputs": []
    },
    {
      "cell_type": "code",
      "metadata": {
        "id": "8NLNOwegoUmx",
        "colab_type": "code",
        "colab": {
          "base_uri": "https://localhost:8080/",
          "height": 72
        },
        "outputId": "9a3493ec-2f97-4f41-9897-a17077cb06b2"
      },
      "source": [
        "new_message"
      ],
      "execution_count": 2,
      "outputs": [
        {
          "output_type": "execute_result",
          "data": {
            "text/plain": [
              "['I wish to go to NewYork for the vacation',\n",
              " 'What are your plans for the vacation',\n",
              " 'I wish I could go for a vacation']"
            ]
          },
          "metadata": {
            "tags": []
          },
          "execution_count": 2
        }
      ]
    },
    {
      "cell_type": "markdown",
      "metadata": {
        "id": "WXdOb2daseC6",
        "colab_type": "text"
      },
      "source": [
        "Count-Vectorizer"
      ]
    },
    {
      "cell_type": "code",
      "metadata": {
        "id": "wnycqioOod9d",
        "colab_type": "code",
        "colab": {
          "base_uri": "https://localhost:8080/",
          "height": 54
        },
        "outputId": "2ac20d84-cb1a-4006-fa46-a1d2d0a244c0"
      },
      "source": [
        "from sklearn.feature_extraction.text import CountVectorizer\n",
        "vect = CountVectorizer(ngram_range = (1,1))\n",
        "dtm = vect.fit_transform(new_message)\n",
        "dtm"
      ],
      "execution_count": 17,
      "outputs": [
        {
          "output_type": "execute_result",
          "data": {
            "text/plain": [
              "<3x12 sparse matrix of type '<class 'numpy.int64'>'\n",
              "\twith 19 stored elements in Compressed Sparse Row format>"
            ]
          },
          "metadata": {
            "tags": []
          },
          "execution_count": 17
        }
      ]
    },
    {
      "cell_type": "code",
      "metadata": {
        "id": "neXZiQWbovVv",
        "colab_type": "code",
        "colab": {
          "base_uri": "https://localhost:8080/",
          "height": 72
        },
        "outputId": "f18df592-5d22-4988-d1be-1db8b493f7d0"
      },
      "source": [
        "dtm_array =dtm.toarray()\n",
        "dtm_array"
      ],
      "execution_count": 18,
      "outputs": [
        {
          "output_type": "execute_result",
          "data": {
            "text/plain": [
              "array([[0, 0, 1, 1, 1, 0, 1, 2, 1, 0, 1, 0],\n",
              "       [1, 0, 1, 0, 0, 1, 1, 0, 1, 1, 0, 1],\n",
              "       [0, 1, 1, 1, 0, 0, 0, 0, 1, 0, 1, 0]])"
            ]
          },
          "metadata": {
            "tags": []
          },
          "execution_count": 18
        }
      ]
    },
    {
      "cell_type": "code",
      "metadata": {
        "id": "N361xHy3pcC1",
        "colab_type": "code",
        "colab": {
          "base_uri": "https://localhost:8080/",
          "height": 138
        },
        "outputId": "082703dc-7e0d-4467-e234-c8daf53b3cc4"
      },
      "source": [
        "import pandas as pd\n",
        "dtm_df = pd.DataFrame(dtm_array,columns = vect.get_feature_names())\n",
        "dtm_df"
      ],
      "execution_count": 19,
      "outputs": [
        {
          "output_type": "execute_result",
          "data": {
            "text/html": [
              "<div>\n",
              "<style scoped>\n",
              "    .dataframe tbody tr th:only-of-type {\n",
              "        vertical-align: middle;\n",
              "    }\n",
              "\n",
              "    .dataframe tbody tr th {\n",
              "        vertical-align: top;\n",
              "    }\n",
              "\n",
              "    .dataframe thead th {\n",
              "        text-align: right;\n",
              "    }\n",
              "</style>\n",
              "<table border=\"1\" class=\"dataframe\">\n",
              "  <thead>\n",
              "    <tr style=\"text-align: right;\">\n",
              "      <th></th>\n",
              "      <th>are</th>\n",
              "      <th>could</th>\n",
              "      <th>for</th>\n",
              "      <th>go</th>\n",
              "      <th>newyork</th>\n",
              "      <th>plans</th>\n",
              "      <th>the</th>\n",
              "      <th>to</th>\n",
              "      <th>vacation</th>\n",
              "      <th>what</th>\n",
              "      <th>wish</th>\n",
              "      <th>your</th>\n",
              "    </tr>\n",
              "  </thead>\n",
              "  <tbody>\n",
              "    <tr>\n",
              "      <th>0</th>\n",
              "      <td>0</td>\n",
              "      <td>0</td>\n",
              "      <td>1</td>\n",
              "      <td>1</td>\n",
              "      <td>1</td>\n",
              "      <td>0</td>\n",
              "      <td>1</td>\n",
              "      <td>2</td>\n",
              "      <td>1</td>\n",
              "      <td>0</td>\n",
              "      <td>1</td>\n",
              "      <td>0</td>\n",
              "    </tr>\n",
              "    <tr>\n",
              "      <th>1</th>\n",
              "      <td>1</td>\n",
              "      <td>0</td>\n",
              "      <td>1</td>\n",
              "      <td>0</td>\n",
              "      <td>0</td>\n",
              "      <td>1</td>\n",
              "      <td>1</td>\n",
              "      <td>0</td>\n",
              "      <td>1</td>\n",
              "      <td>1</td>\n",
              "      <td>0</td>\n",
              "      <td>1</td>\n",
              "    </tr>\n",
              "    <tr>\n",
              "      <th>2</th>\n",
              "      <td>0</td>\n",
              "      <td>1</td>\n",
              "      <td>1</td>\n",
              "      <td>1</td>\n",
              "      <td>0</td>\n",
              "      <td>0</td>\n",
              "      <td>0</td>\n",
              "      <td>0</td>\n",
              "      <td>1</td>\n",
              "      <td>0</td>\n",
              "      <td>1</td>\n",
              "      <td>0</td>\n",
              "    </tr>\n",
              "  </tbody>\n",
              "</table>\n",
              "</div>"
            ],
            "text/plain": [
              "   are  could  for  go  newyork  plans  the  to  vacation  what  wish  your\n",
              "0    0      0    1   1        1      0    1   2         1     0     1     0\n",
              "1    1      0    1   0        0      1    1   0         1     1     0     1\n",
              "2    0      1    1   1        0      0    0   0         1     0     1     0"
            ]
          },
          "metadata": {
            "tags": []
          },
          "execution_count": 19
        }
      ]
    },
    {
      "cell_type": "markdown",
      "metadata": {
        "id": "9paHdPE7reko",
        "colab_type": "text"
      },
      "source": [
        "TF-IDF - Term frequency & Inverse document frequency\n",
        "#IDF = log(No of Documents)/(No of documents containing that term)\n",
        "There are 2 ways of getting TF-IDF \n",
        "1. TFIDF Value = Count Vectorizer(i/p = new_message) + TFIDF Transformer(i/p = o/p of Count Vectorizer)\n",
        "2. TFIDF Value = TFIDF Vectorizer(i/p = new_message)"
      ]
    },
    {
      "cell_type": "code",
      "metadata": {
        "id": "-g2DqH5TrBQj",
        "colab_type": "code",
        "colab": {
          "base_uri": "https://localhost:8080/",
          "height": 138
        },
        "outputId": "8473ce5f-262a-4cd6-92ef-8a6426f894f1"
      },
      "source": [
        "#1st way\n",
        "from sklearn.feature_extraction.text import TfidfTransformer\n",
        "ttrans = TfidfTransformer() # Calling the TFIDF Transformer\n",
        "ttrans_out = ttrans.fit_transform(dtm_array)#Sparse Matrix\n",
        "ttrans_out_array = ttrans_out.toarray()# Array\n",
        "ttrans_df = pd.DataFrame(ttrans_out_array,columns = vect.get_feature_names()) # DataFrame\n",
        "ttrans_df"
      ],
      "execution_count": 20,
      "outputs": [
        {
          "output_type": "execute_result",
          "data": {
            "text/html": [
              "<div>\n",
              "<style scoped>\n",
              "    .dataframe tbody tr th:only-of-type {\n",
              "        vertical-align: middle;\n",
              "    }\n",
              "\n",
              "    .dataframe tbody tr th {\n",
              "        vertical-align: top;\n",
              "    }\n",
              "\n",
              "    .dataframe thead th {\n",
              "        text-align: right;\n",
              "    }\n",
              "</style>\n",
              "<table border=\"1\" class=\"dataframe\">\n",
              "  <thead>\n",
              "    <tr style=\"text-align: right;\">\n",
              "      <th></th>\n",
              "      <th>are</th>\n",
              "      <th>could</th>\n",
              "      <th>for</th>\n",
              "      <th>go</th>\n",
              "      <th>newyork</th>\n",
              "      <th>plans</th>\n",
              "      <th>the</th>\n",
              "      <th>to</th>\n",
              "      <th>vacation</th>\n",
              "      <th>what</th>\n",
              "      <th>wish</th>\n",
              "      <th>your</th>\n",
              "    </tr>\n",
              "  </thead>\n",
              "  <tbody>\n",
              "    <tr>\n",
              "      <th>0</th>\n",
              "      <td>0.000000</td>\n",
              "      <td>0.000000</td>\n",
              "      <td>0.216634</td>\n",
              "      <td>0.278956</td>\n",
              "      <td>0.366794</td>\n",
              "      <td>0.000000</td>\n",
              "      <td>0.278956</td>\n",
              "      <td>0.733588</td>\n",
              "      <td>0.216634</td>\n",
              "      <td>0.000000</td>\n",
              "      <td>0.278956</td>\n",
              "      <td>0.000000</td>\n",
              "    </tr>\n",
              "    <tr>\n",
              "      <th>1</th>\n",
              "      <td>0.435357</td>\n",
              "      <td>0.000000</td>\n",
              "      <td>0.257129</td>\n",
              "      <td>0.000000</td>\n",
              "      <td>0.000000</td>\n",
              "      <td>0.435357</td>\n",
              "      <td>0.331100</td>\n",
              "      <td>0.000000</td>\n",
              "      <td>0.257129</td>\n",
              "      <td>0.435357</td>\n",
              "      <td>0.000000</td>\n",
              "      <td>0.435357</td>\n",
              "    </tr>\n",
              "    <tr>\n",
              "      <th>2</th>\n",
              "      <td>0.000000</td>\n",
              "      <td>0.591887</td>\n",
              "      <td>0.349578</td>\n",
              "      <td>0.450145</td>\n",
              "      <td>0.000000</td>\n",
              "      <td>0.000000</td>\n",
              "      <td>0.000000</td>\n",
              "      <td>0.000000</td>\n",
              "      <td>0.349578</td>\n",
              "      <td>0.000000</td>\n",
              "      <td>0.450145</td>\n",
              "      <td>0.000000</td>\n",
              "    </tr>\n",
              "  </tbody>\n",
              "</table>\n",
              "</div>"
            ],
            "text/plain": [
              "        are     could       for  ...      what      wish      your\n",
              "0  0.000000  0.000000  0.216634  ...  0.000000  0.278956  0.000000\n",
              "1  0.435357  0.000000  0.257129  ...  0.435357  0.000000  0.435357\n",
              "2  0.000000  0.591887  0.349578  ...  0.000000  0.450145  0.000000\n",
              "\n",
              "[3 rows x 12 columns]"
            ]
          },
          "metadata": {
            "tags": []
          },
          "execution_count": 20
        }
      ]
    },
    {
      "cell_type": "code",
      "metadata": {
        "id": "iwVHkAWssDse",
        "colab_type": "code",
        "colab": {
          "base_uri": "https://localhost:8080/",
          "height": 138
        },
        "outputId": "bf2a3472-45a6-4c8c-ff2d-eb82595d8a7b"
      },
      "source": [
        "#2nd way\n",
        "from sklearn.feature_extraction.text import TfidfVectorizer\n",
        "ttrans1 = TfidfVectorizer() # Calling the TFIDF Transformer\n",
        "ttrans1_out = ttrans1.fit_transform(new_message)#Sparse Matrix\n",
        "ttrans1_out_array = ttrans1_out.toarray()# Array\n",
        "ttrans1_df = pd.DataFrame(ttrans1_out_array,columns = vect.get_feature_names()) # DataFrame\n",
        "ttrans1_df"
      ],
      "execution_count": 12,
      "outputs": [
        {
          "output_type": "execute_result",
          "data": {
            "text/html": [
              "<div>\n",
              "<style scoped>\n",
              "    .dataframe tbody tr th:only-of-type {\n",
              "        vertical-align: middle;\n",
              "    }\n",
              "\n",
              "    .dataframe tbody tr th {\n",
              "        vertical-align: top;\n",
              "    }\n",
              "\n",
              "    .dataframe thead th {\n",
              "        text-align: right;\n",
              "    }\n",
              "</style>\n",
              "<table border=\"1\" class=\"dataframe\">\n",
              "  <thead>\n",
              "    <tr style=\"text-align: right;\">\n",
              "      <th></th>\n",
              "      <th>are</th>\n",
              "      <th>could</th>\n",
              "      <th>for</th>\n",
              "      <th>go</th>\n",
              "      <th>newyork</th>\n",
              "      <th>plans</th>\n",
              "      <th>the</th>\n",
              "      <th>to</th>\n",
              "      <th>vacation</th>\n",
              "      <th>what</th>\n",
              "      <th>wish</th>\n",
              "      <th>your</th>\n",
              "    </tr>\n",
              "  </thead>\n",
              "  <tbody>\n",
              "    <tr>\n",
              "      <th>0</th>\n",
              "      <td>0.000000</td>\n",
              "      <td>0.000000</td>\n",
              "      <td>0.216634</td>\n",
              "      <td>0.278956</td>\n",
              "      <td>0.366794</td>\n",
              "      <td>0.000000</td>\n",
              "      <td>0.278956</td>\n",
              "      <td>0.733588</td>\n",
              "      <td>0.216634</td>\n",
              "      <td>0.000000</td>\n",
              "      <td>0.278956</td>\n",
              "      <td>0.000000</td>\n",
              "    </tr>\n",
              "    <tr>\n",
              "      <th>1</th>\n",
              "      <td>0.435357</td>\n",
              "      <td>0.000000</td>\n",
              "      <td>0.257129</td>\n",
              "      <td>0.000000</td>\n",
              "      <td>0.000000</td>\n",
              "      <td>0.435357</td>\n",
              "      <td>0.331100</td>\n",
              "      <td>0.000000</td>\n",
              "      <td>0.257129</td>\n",
              "      <td>0.435357</td>\n",
              "      <td>0.000000</td>\n",
              "      <td>0.435357</td>\n",
              "    </tr>\n",
              "    <tr>\n",
              "      <th>2</th>\n",
              "      <td>0.000000</td>\n",
              "      <td>0.591887</td>\n",
              "      <td>0.349578</td>\n",
              "      <td>0.450145</td>\n",
              "      <td>0.000000</td>\n",
              "      <td>0.000000</td>\n",
              "      <td>0.000000</td>\n",
              "      <td>0.000000</td>\n",
              "      <td>0.349578</td>\n",
              "      <td>0.000000</td>\n",
              "      <td>0.450145</td>\n",
              "      <td>0.000000</td>\n",
              "    </tr>\n",
              "  </tbody>\n",
              "</table>\n",
              "</div>"
            ],
            "text/plain": [
              "        are     could       for  ...      what      wish      your\n",
              "0  0.000000  0.000000  0.216634  ...  0.000000  0.278956  0.000000\n",
              "1  0.435357  0.000000  0.257129  ...  0.435357  0.000000  0.435357\n",
              "2  0.000000  0.591887  0.349578  ...  0.000000  0.450145  0.000000\n",
              "\n",
              "[3 rows x 12 columns]"
            ]
          },
          "metadata": {
            "tags": []
          },
          "execution_count": 12
        }
      ]
    },
    {
      "cell_type": "code",
      "metadata": {
        "id": "un6VPGV4tDs6",
        "colab_type": "code",
        "colab": {}
      },
      "source": [
        ""
      ],
      "execution_count": null,
      "outputs": []
    }
  ]
}