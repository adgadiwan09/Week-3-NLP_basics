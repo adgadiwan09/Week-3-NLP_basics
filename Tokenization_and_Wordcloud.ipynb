{
  "nbformat": 4,
  "nbformat_minor": 0,
  "metadata": {
    "colab": {
      "name": "Tokenization and Wordcloud.ipynb",
      "provenance": [],
      "collapsed_sections": []
    },
    "kernelspec": {
      "name": "python3",
      "display_name": "Python 3"
    }
  },
  "cells": [
    {
      "cell_type": "markdown",
      "metadata": {
        "id": "Hw5zFvebJqUZ",
        "colab_type": "text"
      },
      "source": [
        "TOKENIZATION\n"
      ]
    },
    {
      "cell_type": "code",
      "metadata": {
        "id": "DA9HOIExJvir",
        "colab_type": "code",
        "colab": {}
      },
      "source": [
        "sent= \"Mental peace is the most important thing\""
      ],
      "execution_count": 0,
      "outputs": []
    },
    {
      "cell_type": "code",
      "metadata": {
        "id": "Y2FPyNIZJ6me",
        "colab_type": "code",
        "colab": {
          "base_uri": "https://localhost:8080/",
          "height": 34
        },
        "outputId": "d2d66195-b84d-4402-9ef2-9f67d8338d96"
      },
      "source": [
        "sent.split()"
      ],
      "execution_count": 2,
      "outputs": [
        {
          "output_type": "execute_result",
          "data": {
            "text/plain": [
              "['Mental', 'peace', 'is', 'the', 'most', 'important', 'thing']"
            ]
          },
          "metadata": {
            "tags": []
          },
          "execution_count": 2
        }
      ]
    },
    {
      "cell_type": "code",
      "metadata": {
        "id": "eFdvxeISKAig",
        "colab_type": "code",
        "colab": {
          "base_uri": "https://localhost:8080/",
          "height": 292
        },
        "outputId": "540c0ff1-ba08-4452-b11c-65c10c1ad1de"
      },
      "source": [
        "!pip install wikipedia"
      ],
      "execution_count": 3,
      "outputs": [
        {
          "output_type": "stream",
          "text": [
            "Collecting wikipedia\n",
            "  Downloading https://files.pythonhosted.org/packages/67/35/25e68fbc99e672127cc6fbb14b8ec1ba3dfef035bf1e4c90f78f24a80b7d/wikipedia-1.4.0.tar.gz\n",
            "Requirement already satisfied: beautifulsoup4 in /usr/local/lib/python3.6/dist-packages (from wikipedia) (4.6.3)\n",
            "Requirement already satisfied: requests<3.0.0,>=2.0.0 in /usr/local/lib/python3.6/dist-packages (from wikipedia) (2.23.0)\n",
            "Requirement already satisfied: certifi>=2017.4.17 in /usr/local/lib/python3.6/dist-packages (from requests<3.0.0,>=2.0.0->wikipedia) (2020.4.5.1)\n",
            "Requirement already satisfied: urllib3!=1.25.0,!=1.25.1,<1.26,>=1.21.1 in /usr/local/lib/python3.6/dist-packages (from requests<3.0.0,>=2.0.0->wikipedia) (1.24.3)\n",
            "Requirement already satisfied: idna<3,>=2.5 in /usr/local/lib/python3.6/dist-packages (from requests<3.0.0,>=2.0.0->wikipedia) (2.9)\n",
            "Requirement already satisfied: chardet<4,>=3.0.2 in /usr/local/lib/python3.6/dist-packages (from requests<3.0.0,>=2.0.0->wikipedia) (3.0.4)\n",
            "Building wheels for collected packages: wikipedia\n",
            "  Building wheel for wikipedia (setup.py) ... \u001b[?25l\u001b[?25hdone\n",
            "  Created wheel for wikipedia: filename=wikipedia-1.4.0-cp36-none-any.whl size=11686 sha256=54c7dd95a3132a75b51ce0f69a4983b6230912f765e913a7b472bd92bcf14f81\n",
            "  Stored in directory: /root/.cache/pip/wheels/87/2a/18/4e471fd96d12114d16fe4a446d00c3b38fb9efcb744bd31f4a\n",
            "Successfully built wikipedia\n",
            "Installing collected packages: wikipedia\n",
            "Successfully installed wikipedia-1.4.0\n"
          ],
          "name": "stdout"
        }
      ]
    },
    {
      "cell_type": "code",
      "metadata": {
        "id": "aKetJd8vKJ2Y",
        "colab_type": "code",
        "colab": {}
      },
      "source": [
        "import wikipedia"
      ],
      "execution_count": 0,
      "outputs": []
    },
    {
      "cell_type": "code",
      "metadata": {
        "id": "1HRpqDQcKPGr",
        "colab_type": "code",
        "colab": {}
      },
      "source": [
        "text= wikipedia.summary('Sushant Singh Rajput')"
      ],
      "execution_count": 0,
      "outputs": []
    },
    {
      "cell_type": "code",
      "metadata": {
        "id": "J4JUIOSNKabg",
        "colab_type": "code",
        "colab": {
          "base_uri": "https://localhost:8080/",
          "height": 54
        },
        "outputId": "dee196ea-ae20-4a6f-a3f4-8a7e57af06bc"
      },
      "source": [
        "text"
      ],
      "execution_count": 6,
      "outputs": [
        {
          "output_type": "execute_result",
          "data": {
            "text/plain": [
              "\"Sushant Singh Rajput (21 January 1986 – 14 June 2020) was an Indian actor, dancer, entrepreneur and philanthropist. Rajput started his career with television serials. His debut show was Star Plus's romantic drama Kis Desh Mein Hai Meraa Dil (2008), followed by an award-winning performance in Zee TV's popular soap opera Pavitra Rishta (2009–11).\\nRajput made his film debut in the buddy drama Kai Po Che! (2013), for which he received a nomination for the Filmfare Award for Best Male Debut. He then starred in the romantic comedy Shuddh Desi Romance (2013) and as the titular detective in the action thriller Detective Byomkesh Bakshy! (2015). His highest-grossing releases came with a supporting role in the satire PK (2014), followed by the titular role in the sports biopic M.S. Dhoni: The Untold Story (2016). For his performance in the latter, he received his first nomination for the Filmfare Award for Best Actor. Rajput went on to star in the commercially successful films Kedarnath (2018) and Chhichhore (2019).\\nNITI Aayog, the policy think-tank of the Indian government, signed him to promote the Women Entrepreneurship Platform (WEP). Apart from acting and running Innsaei Ventures, Rajput was actively involved in various programmes like Sushant4Education, as a part of efforts to help young students. In June 2020, at age 34, Rajput died from suicide by hanging at his home in Bandra, Mumbai.\""
            ]
          },
          "metadata": {
            "tags": []
          },
          "execution_count": 6
        }
      ]
    },
    {
      "cell_type": "code",
      "metadata": {
        "id": "Q0VT91NwKbe1",
        "colab_type": "code",
        "colab": {
          "base_uri": "https://localhost:8080/",
          "height": 1000
        },
        "outputId": "00924c8d-bb17-473f-b337-f46b20986fe8"
      },
      "source": [
        "ts= text.split()\n",
        "ts"
      ],
      "execution_count": 7,
      "outputs": [
        {
          "output_type": "execute_result",
          "data": {
            "text/plain": [
              "['Sushant',\n",
              " 'Singh',\n",
              " 'Rajput',\n",
              " '(21',\n",
              " 'January',\n",
              " '1986',\n",
              " '–',\n",
              " '14',\n",
              " 'June',\n",
              " '2020)',\n",
              " 'was',\n",
              " 'an',\n",
              " 'Indian',\n",
              " 'actor,',\n",
              " 'dancer,',\n",
              " 'entrepreneur',\n",
              " 'and',\n",
              " 'philanthropist.',\n",
              " 'Rajput',\n",
              " 'started',\n",
              " 'his',\n",
              " 'career',\n",
              " 'with',\n",
              " 'television',\n",
              " 'serials.',\n",
              " 'His',\n",
              " 'debut',\n",
              " 'show',\n",
              " 'was',\n",
              " 'Star',\n",
              " \"Plus's\",\n",
              " 'romantic',\n",
              " 'drama',\n",
              " 'Kis',\n",
              " 'Desh',\n",
              " 'Mein',\n",
              " 'Hai',\n",
              " 'Meraa',\n",
              " 'Dil',\n",
              " '(2008),',\n",
              " 'followed',\n",
              " 'by',\n",
              " 'an',\n",
              " 'award-winning',\n",
              " 'performance',\n",
              " 'in',\n",
              " 'Zee',\n",
              " \"TV's\",\n",
              " 'popular',\n",
              " 'soap',\n",
              " 'opera',\n",
              " 'Pavitra',\n",
              " 'Rishta',\n",
              " '(2009–11).',\n",
              " 'Rajput',\n",
              " 'made',\n",
              " 'his',\n",
              " 'film',\n",
              " 'debut',\n",
              " 'in',\n",
              " 'the',\n",
              " 'buddy',\n",
              " 'drama',\n",
              " 'Kai',\n",
              " 'Po',\n",
              " 'Che!',\n",
              " '(2013),',\n",
              " 'for',\n",
              " 'which',\n",
              " 'he',\n",
              " 'received',\n",
              " 'a',\n",
              " 'nomination',\n",
              " 'for',\n",
              " 'the',\n",
              " 'Filmfare',\n",
              " 'Award',\n",
              " 'for',\n",
              " 'Best',\n",
              " 'Male',\n",
              " 'Debut.',\n",
              " 'He',\n",
              " 'then',\n",
              " 'starred',\n",
              " 'in',\n",
              " 'the',\n",
              " 'romantic',\n",
              " 'comedy',\n",
              " 'Shuddh',\n",
              " 'Desi',\n",
              " 'Romance',\n",
              " '(2013)',\n",
              " 'and',\n",
              " 'as',\n",
              " 'the',\n",
              " 'titular',\n",
              " 'detective',\n",
              " 'in',\n",
              " 'the',\n",
              " 'action',\n",
              " 'thriller',\n",
              " 'Detective',\n",
              " 'Byomkesh',\n",
              " 'Bakshy!',\n",
              " '(2015).',\n",
              " 'His',\n",
              " 'highest-grossing',\n",
              " 'releases',\n",
              " 'came',\n",
              " 'with',\n",
              " 'a',\n",
              " 'supporting',\n",
              " 'role',\n",
              " 'in',\n",
              " 'the',\n",
              " 'satire',\n",
              " 'PK',\n",
              " '(2014),',\n",
              " 'followed',\n",
              " 'by',\n",
              " 'the',\n",
              " 'titular',\n",
              " 'role',\n",
              " 'in',\n",
              " 'the',\n",
              " 'sports',\n",
              " 'biopic',\n",
              " 'M.S.',\n",
              " 'Dhoni:',\n",
              " 'The',\n",
              " 'Untold',\n",
              " 'Story',\n",
              " '(2016).',\n",
              " 'For',\n",
              " 'his',\n",
              " 'performance',\n",
              " 'in',\n",
              " 'the',\n",
              " 'latter,',\n",
              " 'he',\n",
              " 'received',\n",
              " 'his',\n",
              " 'first',\n",
              " 'nomination',\n",
              " 'for',\n",
              " 'the',\n",
              " 'Filmfare',\n",
              " 'Award',\n",
              " 'for',\n",
              " 'Best',\n",
              " 'Actor.',\n",
              " 'Rajput',\n",
              " 'went',\n",
              " 'on',\n",
              " 'to',\n",
              " 'star',\n",
              " 'in',\n",
              " 'the',\n",
              " 'commercially',\n",
              " 'successful',\n",
              " 'films',\n",
              " 'Kedarnath',\n",
              " '(2018)',\n",
              " 'and',\n",
              " 'Chhichhore',\n",
              " '(2019).',\n",
              " 'NITI',\n",
              " 'Aayog,',\n",
              " 'the',\n",
              " 'policy',\n",
              " 'think-tank',\n",
              " 'of',\n",
              " 'the',\n",
              " 'Indian',\n",
              " 'government,',\n",
              " 'signed',\n",
              " 'him',\n",
              " 'to',\n",
              " 'promote',\n",
              " 'the',\n",
              " 'Women',\n",
              " 'Entrepreneurship',\n",
              " 'Platform',\n",
              " '(WEP).',\n",
              " 'Apart',\n",
              " 'from',\n",
              " 'acting',\n",
              " 'and',\n",
              " 'running',\n",
              " 'Innsaei',\n",
              " 'Ventures,',\n",
              " 'Rajput',\n",
              " 'was',\n",
              " 'actively',\n",
              " 'involved',\n",
              " 'in',\n",
              " 'various',\n",
              " 'programmes',\n",
              " 'like',\n",
              " 'Sushant4Education,',\n",
              " 'as',\n",
              " 'a',\n",
              " 'part',\n",
              " 'of',\n",
              " 'efforts',\n",
              " 'to',\n",
              " 'help',\n",
              " 'young',\n",
              " 'students.',\n",
              " 'In',\n",
              " 'June',\n",
              " '2020,',\n",
              " 'at',\n",
              " 'age',\n",
              " '34,',\n",
              " 'Rajput',\n",
              " 'died',\n",
              " 'from',\n",
              " 'suicide',\n",
              " 'by',\n",
              " 'hanging',\n",
              " 'at',\n",
              " 'his',\n",
              " 'home',\n",
              " 'in',\n",
              " 'Bandra,',\n",
              " 'Mumbai.']"
            ]
          },
          "metadata": {
            "tags": []
          },
          "execution_count": 7
        }
      ]
    },
    {
      "cell_type": "code",
      "metadata": {
        "id": "Yc70Wad-Koo5",
        "colab_type": "code",
        "colab": {
          "base_uri": "https://localhost:8080/",
          "height": 34
        },
        "outputId": "fed2169b-c51d-443e-9eef-18138548c3ed"
      },
      "source": [
        "len(ts)"
      ],
      "execution_count": 8,
      "outputs": [
        {
          "output_type": "execute_result",
          "data": {
            "text/plain": [
              "227"
            ]
          },
          "metadata": {
            "tags": []
          },
          "execution_count": 8
        }
      ]
    },
    {
      "cell_type": "markdown",
      "metadata": {
        "id": "9wa-T-cSK26E",
        "colab_type": "text"
      },
      "source": [
        "TEXTBLOB - Textblob is actually built on top of nltk (Natural Language Toolkit)"
      ]
    },
    {
      "cell_type": "code",
      "metadata": {
        "id": "wuO7Az0IKsdm",
        "colab_type": "code",
        "colab": {}
      },
      "source": [
        "from textblob import TextBlob"
      ],
      "execution_count": 0,
      "outputs": []
    },
    {
      "cell_type": "code",
      "metadata": {
        "id": "TIZCZIFMLHlk",
        "colab_type": "code",
        "colab": {}
      },
      "source": [
        "b= TextBlob(text)"
      ],
      "execution_count": 0,
      "outputs": []
    },
    {
      "cell_type": "code",
      "metadata": {
        "id": "NlQmF6kQLO3D",
        "colab_type": "code",
        "colab": {
          "base_uri": "https://localhost:8080/",
          "height": 88
        },
        "outputId": "9b08cfc7-6424-4e4f-c71b-456cd5099271"
      },
      "source": [
        "b"
      ],
      "execution_count": 14,
      "outputs": [
        {
          "output_type": "execute_result",
          "data": {
            "text/plain": [
              "TextBlob(\"Sushant Singh Rajput (21 January 1986 – 14 June 2020) was an Indian actor, dancer, entrepreneur and philanthropist. Rajput started his career with television serials. His debut show was Star Plus's romantic drama Kis Desh Mein Hai Meraa Dil (2008), followed by an award-winning performance in Zee TV's popular soap opera Pavitra Rishta (2009–11).\n",
              "Rajput made his film debut in the buddy drama Kai Po Che! (2013), for which he received a nomination for the Filmfare Award for Best Male Debut. He then starred in the romantic comedy Shuddh Desi Romance (2013) and as the titular detective in the action thriller Detective Byomkesh Bakshy! (2015). His highest-grossing releases came with a supporting role in the satire PK (2014), followed by the titular role in the sports biopic M.S. Dhoni: The Untold Story (2016). For his performance in the latter, he received his first nomination for the Filmfare Award for Best Actor. Rajput went on to star in the commercially successful films Kedarnath (2018) and Chhichhore (2019).\n",
              "NITI Aayog, the policy think-tank of the Indian government, signed him to promote the Women Entrepreneurship Platform (WEP). Apart from acting and running Innsaei Ventures, Rajput was actively involved in various programmes like Sushant4Education, as a part of efforts to help young students. In June 2020, at age 34, Rajput died from suicide by hanging at his home in Bandra, Mumbai.\")"
            ]
          },
          "metadata": {
            "tags": []
          },
          "execution_count": 14
        }
      ]
    },
    {
      "cell_type": "code",
      "metadata": {
        "id": "7ybH8afqLbSx",
        "colab_type": "code",
        "colab": {
          "base_uri": "https://localhost:8080/",
          "height": 68
        },
        "outputId": "f13663bb-fc14-49a3-87fa-b68502852e0f"
      },
      "source": [
        "import nltk\n",
        "nltk.download('punkt')"
      ],
      "execution_count": 15,
      "outputs": [
        {
          "output_type": "stream",
          "text": [
            "[nltk_data] Downloading package punkt to /root/nltk_data...\n",
            "[nltk_data]   Unzipping tokenizers/punkt.zip.\n"
          ],
          "name": "stdout"
        },
        {
          "output_type": "execute_result",
          "data": {
            "text/plain": [
              "True"
            ]
          },
          "metadata": {
            "tags": []
          },
          "execution_count": 15
        }
      ]
    },
    {
      "cell_type": "code",
      "metadata": {
        "id": "fdleBJWiLj-K",
        "colab_type": "code",
        "colab": {
          "base_uri": "https://localhost:8080/",
          "height": 71
        },
        "outputId": "7f2910b2-f6ca-43cf-d057-09fe4aab96e8"
      },
      "source": [
        "print(b.words)\n",
        "print(b.sentences)"
      ],
      "execution_count": 17,
      "outputs": [
        {
          "output_type": "stream",
          "text": [
            "['Sushant', 'Singh', 'Rajput', '21', 'January', '1986', '–', '14', 'June', '2020', 'was', 'an', 'Indian', 'actor', 'dancer', 'entrepreneur', 'and', 'philanthropist', 'Rajput', 'started', 'his', 'career', 'with', 'television', 'serials', 'His', 'debut', 'show', 'was', 'Star', 'Plus', \"'s\", 'romantic', 'drama', 'Kis', 'Desh', 'Mein', 'Hai', 'Meraa', 'Dil', '2008', 'followed', 'by', 'an', 'award-winning', 'performance', 'in', 'Zee', 'TV', \"'s\", 'popular', 'soap', 'opera', 'Pavitra', 'Rishta', '2009–11', 'Rajput', 'made', 'his', 'film', 'debut', 'in', 'the', 'buddy', 'drama', 'Kai', 'Po', 'Che', '2013', 'for', 'which', 'he', 'received', 'a', 'nomination', 'for', 'the', 'Filmfare', 'Award', 'for', 'Best', 'Male', 'Debut', 'He', 'then', 'starred', 'in', 'the', 'romantic', 'comedy', 'Shuddh', 'Desi', 'Romance', '2013', 'and', 'as', 'the', 'titular', 'detective', 'in', 'the', 'action', 'thriller', 'Detective', 'Byomkesh', 'Bakshy', '2015', 'His', 'highest-grossing', 'releases', 'came', 'with', 'a', 'supporting', 'role', 'in', 'the', 'satire', 'PK', '2014', 'followed', 'by', 'the', 'titular', 'role', 'in', 'the', 'sports', 'biopic', 'M.S', 'Dhoni', 'The', 'Untold', 'Story', '2016', 'For', 'his', 'performance', 'in', 'the', 'latter', 'he', 'received', 'his', 'first', 'nomination', 'for', 'the', 'Filmfare', 'Award', 'for', 'Best', 'Actor', 'Rajput', 'went', 'on', 'to', 'star', 'in', 'the', 'commercially', 'successful', 'films', 'Kedarnath', '2018', 'and', 'Chhichhore', '2019', 'NITI', 'Aayog', 'the', 'policy', 'think-tank', 'of', 'the', 'Indian', 'government', 'signed', 'him', 'to', 'promote', 'the', 'Women', 'Entrepreneurship', 'Platform', 'WEP', 'Apart', 'from', 'acting', 'and', 'running', 'Innsaei', 'Ventures', 'Rajput', 'was', 'actively', 'involved', 'in', 'various', 'programmes', 'like', 'Sushant4Education', 'as', 'a', 'part', 'of', 'efforts', 'to', 'help', 'young', 'students', 'In', 'June', '2020', 'at', 'age', '34', 'Rajput', 'died', 'from', 'suicide', 'by', 'hanging', 'at', 'his', 'home', 'in', 'Bandra', 'Mumbai']\n",
            "[Sentence(\"Sushant Singh Rajput (21 January 1986 – 14 June 2020) was an Indian actor, dancer, entrepreneur and philanthropist.\"), Sentence(\"Rajput started his career with television serials.\"), Sentence(\"His debut show was Star Plus's romantic drama Kis Desh Mein Hai Meraa Dil (2008), followed by an award-winning performance in Zee TV's popular soap opera Pavitra Rishta (2009–11).\"), Sentence(\"Rajput made his film debut in the buddy drama Kai Po Che!\"), Sentence(\"(2013), for which he received a nomination for the Filmfare Award for Best Male Debut.\"), Sentence(\"He then starred in the romantic comedy Shuddh Desi Romance (2013) and as the titular detective in the action thriller Detective Byomkesh Bakshy!\"), Sentence(\"(2015).\"), Sentence(\"His highest-grossing releases came with a supporting role in the satire PK (2014), followed by the titular role in the sports biopic M.S.\"), Sentence(\"Dhoni: The Untold Story (2016).\"), Sentence(\"For his performance in the latter, he received his first nomination for the Filmfare Award for Best Actor.\"), Sentence(\"Rajput went on to star in the commercially successful films Kedarnath (2018) and Chhichhore (2019).\"), Sentence(\"NITI Aayog, the policy think-tank of the Indian government, signed him to promote the Women Entrepreneurship Platform (WEP).\"), Sentence(\"Apart from acting and running Innsaei Ventures, Rajput was actively involved in various programmes like Sushant4Education, as a part of efforts to help young students.\"), Sentence(\"In June 2020, at age 34, Rajput died from suicide by hanging at his home in Bandra, Mumbai.\")]\n"
          ],
          "name": "stdout"
        }
      ]
    },
    {
      "cell_type": "code",
      "metadata": {
        "id": "vSY_POL7LqHD",
        "colab_type": "code",
        "colab": {
          "base_uri": "https://localhost:8080/",
          "height": 68
        },
        "outputId": "198d331e-62a6-415a-e7c4-866ac233ca25"
      },
      "source": [
        "import numpy as np\n",
        "a = np.array([[3,2,2],[2,3,4]])\n",
        "print(a)\n",
        "print(type(a))"
      ],
      "execution_count": 18,
      "outputs": [
        {
          "output_type": "stream",
          "text": [
            "[[3 2 2]\n",
            " [2 3 4]]\n",
            "<class 'numpy.ndarray'>\n"
          ],
          "name": "stdout"
        }
      ]
    },
    {
      "cell_type": "code",
      "metadata": {
        "id": "lupdX4uxMBdK",
        "colab_type": "code",
        "colab": {
          "base_uri": "https://localhost:8080/",
          "height": 68
        },
        "outputId": "7870e62a-6886-46a7-d763-12af3cfc5cc2"
      },
      "source": [
        "print(a.size)\n",
        "print(a.ndim)\n",
        "print(a.shape)"
      ],
      "execution_count": 19,
      "outputs": [
        {
          "output_type": "stream",
          "text": [
            "6\n",
            "2\n",
            "(2, 3)\n"
          ],
          "name": "stdout"
        }
      ]
    },
    {
      "cell_type": "markdown",
      "metadata": {
        "id": "jjKx9bZCMbJJ",
        "colab_type": "text"
      },
      "source": [
        "# Data Visualization | Matplotlib"
      ]
    },
    {
      "cell_type": "code",
      "metadata": {
        "id": "6cfTtFSWMIDX",
        "colab_type": "code",
        "colab": {}
      },
      "source": [
        "a = np.array([1,2,3])\n",
        "b= np.array([3,4,5])"
      ],
      "execution_count": 0,
      "outputs": []
    },
    {
      "cell_type": "code",
      "metadata": {
        "id": "nxga1H93Mlw5",
        "colab_type": "code",
        "colab": {
          "base_uri": "https://localhost:8080/",
          "height": 265
        },
        "outputId": "bb69c1cc-cbb1-4520-eeed-57710dd4c2be"
      },
      "source": [
        "import matplotlib.pyplot as plt\n",
        "plt.plot(a,b,marker = '*')\n",
        "plt.show()"
      ],
      "execution_count": 21,
      "outputs": [
        {
          "output_type": "display_data",
          "data": {
            "image/png": "[encoded data removed]",
            "text/plain": [
              "<Figure size 432x288 with 1 Axes>"
            ]
          },
          "metadata": {
            "tags": [],
            "needs_background": "light"
          }
        }
      ]
    },
    {
      "cell_type": "code",
      "metadata": {
        "id": "K20xvUq2MpkJ",
        "colab_type": "code",
        "colab": {
          "base_uri": "https://localhost:8080/",
          "height": 265
        },
        "outputId": "178fb37b-3372-4db7-8330-eb90c465fd2e"
      },
      "source": [
        "plt.scatter(a,b)\n",
        "plt.show()"
      ],
      "execution_count": 22,
      "outputs": [
        {
          "output_type": "display_data",
          "data": {
            "image/png": "[encoded data removed]",
            "text/plain": [
              "<Figure size 432x288 with 1 Axes>"
            ]
          },
          "metadata": {
            "tags": [],
            "needs_background": "light"
          }
        }
      ]
    },
    {
      "cell_type": "code",
      "metadata": {
        "id": "_rhhO0jbMtPL",
        "colab_type": "code",
        "colab": {
          "base_uri": "https://localhost:8080/",
          "height": 295
        },
        "outputId": "2e54a329-8540-4155-9a14-9e9a707d32db"
      },
      "source": [
        "# Bar Graph\n",
        "x = ['Ameer','John','Rohit','SOuryadeep']\n",
        "y = [145,156,143,152]\n",
        "plt.bar(x,y,color=['r','g','b','k'])\n",
        "plt.xlabel('Person')\n",
        "plt.ylabel('Height')\n",
        "plt.title('Bar Graph - Person vs Person Height')\n",
        "plt.show()"
      ],
      "execution_count": 23,
      "outputs": [
        {
          "output_type": "display_data",
          "data": {
            "image/png": "[encoded data removed]",
            "text/plain": [
              "<Figure size 432x288 with 1 Axes>"
            ]
          },
          "metadata": {
            "tags": [],
            "needs_background": "light"
          }
        }
      ]
    },
    {
      "cell_type": "markdown",
      "metadata": {
        "id": "ceEamg8vM1bO",
        "colab_type": "text"
      },
      "source": [
        "WORDCLOUD"
      ]
    },
    {
      "cell_type": "code",
      "metadata": {
        "id": "t38dD4gMMwe3",
        "colab_type": "code",
        "colab": {}
      },
      "source": [
        "from wordcloud import WordCloud  "
      ],
      "execution_count": 0,
      "outputs": []
    },
    {
      "cell_type": "code",
      "metadata": {
        "id": "rmWpOEQfM7Bf",
        "colab_type": "code",
        "colab": {
          "base_uri": "https://localhost:8080/",
          "height": 54
        },
        "outputId": "ea7aaa09-adc1-44fa-8349-a1b74e94e9b5"
      },
      "source": [
        "text"
      ],
      "execution_count": 27,
      "outputs": [
        {
          "output_type": "execute_result",
          "data": {
            "text/plain": [
              "\"Sushant Singh Rajput (21 January 1986 – 14 June 2020) was an Indian actor, dancer, entrepreneur and philanthropist. Rajput started his career with television serials. His debut show was Star Plus's romantic drama Kis Desh Mein Hai Meraa Dil (2008), followed by an award-winning performance in Zee TV's popular soap opera Pavitra Rishta (2009–11).\\nRajput made his film debut in the buddy drama Kai Po Che! (2013), for which he received a nomination for the Filmfare Award for Best Male Debut. He then starred in the romantic comedy Shuddh Desi Romance (2013) and as the titular detective in the action thriller Detective Byomkesh Bakshy! (2015). His highest-grossing releases came with a supporting role in the satire PK (2014), followed by the titular role in the sports biopic M.S. Dhoni: The Untold Story (2016). For his performance in the latter, he received his first nomination for the Filmfare Award for Best Actor. Rajput went on to star in the commercially successful films Kedarnath (2018) and Chhichhore (2019).\\nNITI Aayog, the policy think-tank of the Indian government, signed him to promote the Women Entrepreneurship Platform (WEP). Apart from acting and running Innsaei Ventures, Rajput was actively involved in various programmes like Sushant4Education, as a part of efforts to help young students. In June 2020, at age 34, Rajput died from suicide by hanging at his home in Bandra, Mumbai.\""
            ]
          },
          "metadata": {
            "tags": []
          },
          "execution_count": 27
        }
      ]
    },
    {
      "cell_type": "code",
      "metadata": {
        "id": "DylluHElNIrz",
        "colab_type": "code",
        "colab": {
          "base_uri": "https://localhost:8080/",
          "height": 34
        },
        "outputId": "e8c7be0d-fdb7-43a4-be13-e51de4736df4"
      },
      "source": [
        "wc = WordCloud(background_color =\"black\")\n",
        "wc.generate(text)\n"
      ],
      "execution_count": 28,
      "outputs": [
        {
          "output_type": "execute_result",
          "data": {
            "text/plain": [
              "<wordcloud.wordcloud.WordCloud at 0x7f588d62d9e8>"
            ]
          },
          "metadata": {
            "tags": []
          },
          "execution_count": 28
        }
      ]
    },
    {
      "cell_type": "code",
      "metadata": {
        "id": "FngNhpcjNJxv",
        "colab_type": "code",
        "colab": {
          "base_uri": "https://localhost:8080/",
          "height": 198
        },
        "outputId": "1abf0895-c780-42ad-e94b-497b38c84794"
      },
      "source": [
        "plt.imshow(wc)\n",
        "plt.axis(\"off\")\n",
        "plt.show()"
      ],
      "execution_count": 29,
      "outputs": [
        {
          "output_type": "display_data",
          "data": {
            "image/png": "[encoded data removed]",
            "text/plain": [
              "<Figure size 432x288 with 1 Axes>"
            ]
          },
          "metadata": {
            "tags": [],
            "needs_background": "light"
          }
        }
      ]
    },
    {
      "cell_type": "code",
      "metadata": {
        "id": "jf-ZISLANNBt",
        "colab_type": "code",
        "colab": {}
      },
      "source": [
        ""
      ],
      "execution_count": 0,
      "outputs": []
    }
  ]
}